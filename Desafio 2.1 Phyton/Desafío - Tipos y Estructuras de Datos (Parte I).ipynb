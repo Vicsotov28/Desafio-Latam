{
 "cells": [
  {
   "cell_type": "markdown",
   "id": "e8ba0ed9-b848-46fc-ac75-5ffa9c495aaf",
   "metadata": {},
   "source": [
    "# Nombre: Vicente Soto\n",
    "# Curso: Data Analytics - Generación 106 (Desafío Latam)\n",
    "\n",
    "## Desafío - Tipos y Estructuras de Datos (Parte I)"
   ]
  },
  {
   "cell_type": "markdown",
   "id": "b0b1cb3c-2666-4ab4-bf87-ff3a6c13049d",
   "metadata": {},
   "source": [
    "## 1) Manipulación de listas"
   ]
  },
  {
   "cell_type": "code",
   "execution_count": 15,
   "id": "9ebfd00f-b437-4ebf-82ac-00ef6d34336f",
   "metadata": {},
   "outputs": [
    {
     "name": "stdout",
     "output_type": "stream",
     "text": [
      "Quinto elemento de la lista: kiwi\n",
      "Elementos del cuarto al sexto: ['plátano', 'kiwi', 'uva']\n",
      "Elemento 3 eliminado: ['manzana', 'pera', 'plátano', 'kiwi', 'uva', 'piña', 'mango', 'sandía', 'melón']\n",
      "Lista con dos nuevos elementos: ['manzana', 'pera', 'plátano', 'kiwi', 'uva', 'piña', 'mango', 'sandía', 'melón', 'guinda', 'durazno']\n",
      "Lista ordenada alfabeticamente: ['durazno', 'guinda', 'kiwi', 'mango', 'manzana', 'melón', 'pera', 'piña', 'plátano', 'sandía', 'uva']\n",
      "Diccionario generado: {'uno': 'durazno', 'dos': 'guinda', 'tres': 'kiwi', 'cuatro': 'mango', 'cinco': 'manzana', 'seis': 'melón', 'siete': 'pera', 'ocho': 'piña', 'nueve': 'plátano', 'diez': 'sandía'}\n"
     ]
    }
   ],
   "source": [
    "# Creando lista\n",
    "lista = [\"manzana\", \"pera\", \"naranja\", \"plátano\", \"kiwi\", \"uva\", \"piña\",\"mango\", \"sandía\", \"melón\"]\n",
    "\n",
    "# 1) imprimir el quinto elemento\n",
    "\n",
    "print(\"Quinto elemento de la lista:\", lista[4])\n",
    "\n",
    "# 2) imprimir del cuarto al sexto \n",
    "\n",
    "print(\"Elementos del cuarto al sexto:\", lista[3:6])\n",
    "\n",
    "# 3) Eliminar el elemento 3\n",
    "\n",
    "del lista[2]\n",
    "print(\"Elemento 3 eliminado:\", lista)\n",
    "\n",
    "# 4) agregar dos nuevos elementos\n",
    "\n",
    "lista.append(\"guinda\")\n",
    "lista.append(\"durazno\")\n",
    "print(\"Lista con dos nuevos elementos:\", lista)\n",
    "\n",
    "# 5) ordenar la lista alfabeticamente\n",
    "\n",
    "lista.sort()\n",
    "print(\"Lista ordenada alfabeticamente:\", lista)\n",
    "\n",
    "# 6) generar un diccionario usando lista1 como llaves y lista como valores.\n",
    "\n",
    "lista1 = [\"uno\",\"dos\",\"tres\",\"cuatro\",\"cinco\",\"seis\",\"siete\",\"ocho\",\"nueve\",\"diez\"]\n",
    "diccionario = dict(zip(lista1, lista))\n",
    "print(\"Diccionario generado:\", diccionario)\n"
   ]
  },
  {
   "cell_type": "markdown",
   "id": "9da0cd8d-4832-43bb-accf-b6001fc0edd7",
   "metadata": {},
   "source": [
    "## 2) Fabricación de cerveza artesanal\n"
   ]
  },
  {
   "cell_type": "code",
   "execution_count": 21,
   "id": "f6e0df4d-4093-4353-a070-547f53e3a355",
   "metadata": {},
   "outputs": [
    {
     "name": "stdout",
     "output_type": "stream",
     "text": [
      "Media: 5.005334665334665\n",
      "Desviacion estandar: 0.34934892044901755\n",
      "Limite inferior de control (LIC): 3.9572879039876123\n",
      "Limite superior de control (LSC): 6.053381426681717\n",
      "Valores fuera de los límites de control: [0.   3.87]\n",
      "Cantidad de valores fuera de control: 2\n"
     ]
    }
   ],
   "source": [
    "# Análisis de porcentaje de alcohol en cerveza artesanal\n",
    "\n",
    "import numpy as np\n",
    "\n",
    "# Cargar los datos del archivo CSV\n",
    "array = np.loadtxt(\"alcohol_cerveza.csv\", delimiter=\",\")\n",
    "\n",
    "# Calcular media y desviacion estandar\n",
    "\n",
    "media = np.mean(array)\n",
    "desviacion = np.std(array)\n",
    "\n",
    "# Calular LIC y LSC\n",
    "\n",
    "lic = media - (3 * desviacion)\n",
    "lsc = media + (3 * desviacion)\n",
    "\n",
    "# Mostrar resultados\n",
    "print(\"Media:\", media)\n",
    "print(\"Desviacion estandar:\", desviacion)\n",
    "print(\"Limite inferior de control (LIC):\", lic)\n",
    "print(\"Limite superior de control (LSC):\", lsc)\n",
    "\n",
    "# Filtrar valores fuera de los limites de control\n",
    "\n",
    "fuera_de_control = array[np.logical_or(array < lic, array > lsc)]\n",
    "\n",
    "print(\"Valores fuera de los límites de control:\", fuera_de_control)\n",
    "print(\"Cantidad de valores fuera de control:\", len(fuera_de_control))\n"
   ]
  },
  {
   "cell_type": "code",
   "execution_count": null,
   "id": "becb1b9a-156a-4c43-bf48-065d7b8ac375",
   "metadata": {},
   "outputs": [],
   "source": []
  }
 ],
 "metadata": {
  "kernelspec": {
   "display_name": "Python 3 (ipykernel)",
   "language": "python",
   "name": "python3"
  },
  "language_info": {
   "codemirror_mode": {
    "name": "ipython",
    "version": 3
   },
   "file_extension": ".py",
   "mimetype": "text/x-python",
   "name": "python",
   "nbconvert_exporter": "python",
   "pygments_lexer": "ipython3",
   "version": "3.13.2"
  }
 },
 "nbformat": 4,
 "nbformat_minor": 5
}
