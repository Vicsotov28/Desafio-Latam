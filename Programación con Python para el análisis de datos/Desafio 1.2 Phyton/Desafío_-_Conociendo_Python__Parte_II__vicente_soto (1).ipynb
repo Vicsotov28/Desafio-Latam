{
 "cells": [
  {
   "cell_type": "markdown",
   "id": "12ea9c21-94f1-4c7d-b835-ea33a813e366",
   "metadata": {},
   "source": [
    "# Nombre: Vicente Soto\n",
    "# Curso: Data Analytics - Generación 106 (Desafío Latam)\n",
    "\n",
    "## Desafío - Conociendo Python (Parte II)"
   ]
  },
  {
   "cell_type": "markdown",
   "id": "18d7572f-c89f-4ac0-949d-4c802f253d3a",
   "metadata": {},
   "source": [
    "## 1) Suma de números pares\n",
    "\n",
    "  ### En este programa pediremos al usuario que ingrese dos números enteros, y calcule la suma de todos los números pares entre ellos"
   ]
  },
  {
   "cell_type": "code",
   "execution_count": 3,
   "id": "6b947e90-6130-492d-9669-1243deb37145",
   "metadata": {},
   "outputs": [
    {
     "name": "stdin",
     "output_type": "stream",
     "text": [
      "Ingrese el primer numero: 10\n",
      "Ingrese el segundo numero: 2\n"
     ]
    },
    {
     "name": "stdout",
     "output_type": "stream",
     "text": [
      "la suma de los numeros pares entre 2 y 10 es: 30\n"
     ]
    }
   ],
   "source": [
    "# Pedimos al usuario que ingrese dos numeros\n",
    "\n",
    "numero1 = int(input(\"Ingrese el primer numero:\"))\n",
    "numero2 = int(input(\"Ingrese el segundo numero:\"))\n",
    "\n",
    "# Aseguramos que el numero1 sea menor que el numero2\n",
    "\n",
    "if numero1 > numero2:\n",
    "    numero1, numero2 = numero2, numero1\n",
    "    \n",
    "# Sumamos los pares usando un FOR con RANGE\n",
    "\n",
    "suma_pares = 0\n",
    "for numero in range(numero1, numero2 + 1):\n",
    "    if numero %2 == 0:\n",
    "        suma_pares += numero\n",
    "\n",
    "# Mostramos el resultado obtenido\n",
    "\n",
    "print(f\"la suma de los numeros pares entre {numero1} y {numero2} es: {suma_pares}\")"
   ]
  },
  {
   "cell_type": "markdown",
   "id": "ced9aa8b-968a-4340-a279-59811ae42000",
   "metadata": {},
   "source": [
    "## 2) Calculadora de áreas\n",
    "\n",
    "  ### En este programa pediremos al usuario el tipo de figura el cual quiere calcular su area (cuadrado, triangulo, circulo) y las medidas correspondientes"
   ]
  },
  {
   "cell_type": "code",
   "execution_count": 7,
   "id": "ff4cc19c-2f8a-45e0-9c46-116992a4df8a",
   "metadata": {},
   "outputs": [
    {
     "name": "stdin",
     "output_type": "stream",
     "text": [
      "¿Que figura deseas calcular? (cuadrado/ triangulo/ circulo):  circulo\n",
      "Ingresa el radio:  20\n"
     ]
    },
    {
     "name": "stdout",
     "output_type": "stream",
     "text": [
      "El area del circulo es: 1256.64\n"
     ]
    }
   ],
   "source": [
    "import math\n",
    "\n",
    "# Le preguntamos al usuario que figura quiere calcular\n",
    "\n",
    "figura = input(\"¿Que figura deseas calcular? (cuadrado/ triangulo/ circulo): \")\n",
    "\n",
    "if figura == \"cuadrado\":\n",
    "    lado = float(input(\"Ingresa la longitud del lado: \"))\n",
    "    area = lado ** 2\n",
    "    print(f\"El area del cuadrado es: {area}\")\n",
    "\n",
    "elif figura == \"triangulo\":\n",
    "    base = float(input(\"Ingresa la base:\"))\n",
    "    altura = float(input(\"ingresa la altura: \"))\n",
    "    area = (base * altura) /2\n",
    "    print(f\"El area del triangulo es: {area}\")\n",
    "\n",
    "elif figura == \"circulo\":\n",
    "    radio = float(input(\"Ingresa el radio: \"))\n",
    "    area = math.pi * (radio ** 2)\n",
    "    print(f\"El area del circulo es: {area:.2f}\")\n",
    "\n",
    "else:\n",
    "    print(\"Figura no valida. Por favor elige una figura disponible.\")"
   ]
  },
  {
   "cell_type": "markdown",
   "id": "69e088f0-e06f-430e-abdc-fcdc6b1a45ab",
   "metadata": {},
   "source": [
    "## 3) Adivina el numero\n",
    "\n",
    "  ### Este programa genera un número aleatorio entre 1 y 100. El usuario debe adivinarlo, y el programa le dará pistas hasta que acierte."
   ]
  },
  {
   "cell_type": "code",
   "execution_count": 8,
   "id": "f7f2cbe5-f341-4729-afb7-296c3e653e09",
   "metadata": {},
   "outputs": [
    {
     "name": "stdout",
     "output_type": "stream",
     "text": [
      "¡Adivina el numero entre 1 y 100!\n"
     ]
    },
    {
     "name": "stdin",
     "output_type": "stream",
     "text": [
      "Ingresa el numero:  20\n"
     ]
    },
    {
     "name": "stdout",
     "output_type": "stream",
     "text": [
      "Muy bajo. Intenta con un numero mayor.\n"
     ]
    },
    {
     "name": "stdin",
     "output_type": "stream",
     "text": [
      "Ingresa el numero:  30\n"
     ]
    },
    {
     "name": "stdout",
     "output_type": "stream",
     "text": [
      "Muy alto. Intenta con un numero menor.\n"
     ]
    },
    {
     "name": "stdin",
     "output_type": "stream",
     "text": [
      "Ingresa el numero:  25\n"
     ]
    },
    {
     "name": "stdout",
     "output_type": "stream",
     "text": [
      "Muy alto. Intenta con un numero menor.\n"
     ]
    },
    {
     "name": "stdin",
     "output_type": "stream",
     "text": [
      "Ingresa el numero:  22\n"
     ]
    },
    {
     "name": "stdout",
     "output_type": "stream",
     "text": [
      "¡Felicidades! Adivinaste el numero.\n"
     ]
    }
   ],
   "source": [
    "import random\n",
    "\n",
    "# Generamos el número Aleatorio\n",
    "\n",
    "numero_aleatorio = random.randint(1,100)\n",
    "intento = None\n",
    "\n",
    "print(\"¡Adivina el numero entre 1 y 100!\")\n",
    "\n",
    "# Le preguntamos al usuario que adivine/inserte un numero entre el 1 y 100 y hacemos el ciclo hasta que adivine\n",
    "\n",
    "while intento != numero_aleatorio:\n",
    "    intento = int(input(\"Ingresa el numero: \"))\n",
    "\n",
    "    if intento < numero_aleatorio:\n",
    "        print(\"Muy bajo. Intenta con un numero mayor.\")\n",
    "    elif intento > numero_aleatorio:\n",
    "        print(\"Muy alto. Intenta con un numero menor.\")\n",
    "    else:\n",
    "        print(\"¡Felicidades! Adivinaste el numero.\")"
   ]
  },
  {
   "cell_type": "markdown",
   "id": "2b5ce6c8-f883-41b7-889d-b243c9e94dec",
   "metadata": {},
   "source": [
    "## 4) Carrera de pollos\n",
    "\n",
    "  ### Este programa simula el avance de un pollo cada segundo en una carrera de 100 metros. El usuario ingresa la velocidad (m/s) y el pollo avanza visualmente."
   ]
  },
  {
   "cell_type": "code",
   "execution_count": 9,
   "id": "d9ff56b4-bec1-4296-b663-8f7118e11e9f",
   "metadata": {},
   "outputs": [
    {
     "name": "stdin",
     "output_type": "stream",
     "text": [
      "¿ A que velocidad quiere que corra el pollo? (en metros/segundos):  20\n"
     ]
    },
    {
     "name": "stdout",
     "output_type": "stream",
     "text": [
      "          🐥\n",
      "                    🐥\n",
      "                              🐥\n",
      "                                        🐥\n",
      "                                                  🐥\n",
      "¡El pollo llego a la meta! 🏁\n"
     ]
    }
   ],
   "source": [
    "import time\n",
    "\n",
    "# Pedimos al usuario a que velocidad quiere que corra el pollo\n",
    "\n",
    "velocidad = int(input(\"¿ A que velocidad quieres que corra el pollo? (en metros/segundos): \"))\n",
    "\n",
    "# Iniciamos Distancia\n",
    "\n",
    "distancia = 0\n",
    "\n",
    "# Ciclo que simula el avanse del pollo\n",
    "\n",
    "while distancia < 100:\n",
    "    distancia += velocidad\n",
    "    espacio = \" \" * (distancia // 2)  # Creamos ajuste visual de carrera de pollos\n",
    "    print(espacio + \"🐥\")\n",
    "    time.sleep(1)\n",
    "\n",
    "print(\"¡El pollo llego a la meta Felicidades! 🏁\")    "
   ]
  }
 ],
 "metadata": {
  "kernelspec": {
   "display_name": "Python 3 (ipykernel)",
   "language": "python",
   "name": "python3"
  },
  "language_info": {
   "codemirror_mode": {
    "name": "ipython",
    "version": 3
   },
   "file_extension": ".py",
   "mimetype": "text/x-python",
   "name": "python",
   "nbconvert_exporter": "python",
   "pygments_lexer": "ipython3",
   "version": "3.13.3"
  }
 },
 "nbformat": 4,
 "nbformat_minor": 5
}
