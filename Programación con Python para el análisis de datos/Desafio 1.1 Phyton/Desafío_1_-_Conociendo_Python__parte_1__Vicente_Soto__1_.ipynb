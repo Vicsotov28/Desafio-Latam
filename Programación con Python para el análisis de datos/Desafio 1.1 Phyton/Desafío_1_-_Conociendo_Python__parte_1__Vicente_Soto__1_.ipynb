{
 "cells": [
  {
   "cell_type": "markdown",
   "id": "edfc3d65-136e-4959-8962-21d8a1ea5d6a",
   "metadata": {},
   "source": [
    "# Nombre: Vicente Soto\n",
    "# Curso: Data Analytics - Generación 106 (Desafío Latam)\n",
    "\n",
    "## 1) Calculando el salario semanal\n",
    "\n",
    "    ### En este programa pediremos al usuario que ingrese el monto total de sus ventas y calcularemos su salario total sumando un sueldo base más una           comisión del 10%.\n",
    "    "
   ]
  },
  {
   "cell_type": "code",
   "execution_count": null,
   "id": "25b1362f-90bf-452f-bb30-a7cf21befc71",
   "metadata": {},
   "outputs": [],
   "source": [
    "# Ingresar las ventas totales del vendedor\n",
    "\n",
    "ventas_totales = float(input(\"Ingrese el monto total de ventas realizadas:\"))\n",
    "\n",
    "# Definir el salario base del vendedor(500)\n",
    "\n",
    "salario_base = 500\n",
    "\n",
    "#Calcular la comision del 10%\n",
    "\n",
    "comision = ventas_totales * 0.10\n",
    "\n",
    "# Calcular el salario total del vendedor \n",
    "\n",
    "salario_total = salario_base + comision\n",
    "\n",
    "# Mostrar resultado del salario total del vendedor\n",
    "\n",
    "print(f\"su salario total es de: $\", salario_total)\n"
   ]
  },
  {
   "cell_type": "markdown",
   "id": "b01cc03d-6e45-4036-b2d4-9eacf30679b8",
   "metadata": {},
   "source": [
    "## 2) Bienvenido a la frutería virtual\n",
    "   \n",
    "  ### En este programa crearemos un diccionario con frutas y sus precios, le pediremos al usuario que ingrese el nombre de una fruta y verificaremos si       esa fruta está en el diccionario. Si la fruta está en el diccionario, mostraremos el precio al usuario. Si la fruta no está en el diccionario, le       diremos al usuario que no se encuentra esa fruta en nuestra tienda.\n"
   ]
  },
  {
   "cell_type": "code",
   "execution_count": 24,
   "id": "7a432217-2131-42b7-bf6b-b2f9182d1b67",
   "metadata": {},
   "outputs": [
    {
     "name": "stdin",
     "output_type": "stream",
     "text": [
      "Ingrese el nombre de la fruta que busca manzana\n"
     ]
    },
    {
     "name": "stdout",
     "output_type": "stream",
     "text": [
      "el precio de la manzana es de $800\n"
     ]
    }
   ],
   "source": [
    "# Crear un catalogo de frutas\n",
    "\n",
    "catalogo_frutas = {}\n",
    "\n",
    "# Agregar las frutas con sus precios\n",
    "\n",
    "catalogo_frutas['manzana'] = 800\n",
    "catalogo_frutas['naranja'] = 500\n",
    "catalogo_frutas['pera']  = 600\n",
    "catalogo_frutas['piña'] = 1200\n",
    "catalogo_frutas['platano'] = 1000\n",
    "\n",
    "# pedir al usuario que ingrese la fruta que busca\n",
    "\n",
    "fruta = input(\"Ingrese el nombre de la fruta que busca\").lower()\n",
    "\n",
    "# Verificar si la fruta esta en el catalogo\n",
    "\n",
    "if fruta in catalogo_frutas:\n",
    "    print(f\"el precio de la {fruta} es de ${catalogo_frutas[fruta]}\")\n",
    "else:\n",
    "   print(\"lo sentimos, esta fruta no se encuentra disponible en nuestra tienda\")\n",
    "\n"
   ]
  },
  {
   "cell_type": "markdown",
   "id": "d6269298-3e46-422c-8511-36f1d8c8ba23",
   "metadata": {},
   "source": [
    "## 3) Bienvenido al casino\n",
    "\n",
    "  ###  En este programa simularemos el lanzamiento de dos dados usando la biblioteca random.\n"
   ]
  },
  {
   "cell_type": "code",
   "execution_count": 20,
   "id": "dffd09f9-aa3c-4f91-bb33-6d047686e14e",
   "metadata": {},
   "outputs": [
    {
     "name": "stdout",
     "output_type": "stream",
     "text": [
      "El primer dado sacó: 2\n",
      "El segundo dado sacó: 2\n",
      "La suma de los dados es: 4\n"
     ]
    }
   ],
   "source": [
    "# Importar la librería random\n",
    "import random\n",
    "\n",
    "# Generar dos números aleatorios entre 1 y 6\n",
    "dado1 = random.randint(1, 6)\n",
    "dado2 = random.randint(1, 6)\n",
    "\n",
    "# Calcular la suma de ambos dados\n",
    "suma = dado1 + dado2\n",
    "\n",
    "# Mostrar los valores y la suma\n",
    "print(f\"El primer dado sacó: {dado1}\")\n",
    "print(f\"El segundo dado sacó: {dado2}\")\n",
    "print(f\"La suma de los dados es: {suma}\")\n"
   ]
  },
  {
   "cell_type": "markdown",
   "id": "4f88b27e-3721-4817-8b47-f55abc1e63bb",
   "metadata": {},
   "source": [
    "## 4) Calculadora de chocolate\n",
    "\n",
    "  ###  En este programa calcularemos cuántas porciones de chocolate podemos comer sin pasar el límite diario de calorías."
   ]
  },
  {
   "cell_type": "code",
   "execution_count": 21,
   "id": "a4e7250c-ca80-481f-b2c8-3ad110b609ac",
   "metadata": {},
   "outputs": [
    {
     "name": "stdin",
     "output_type": "stream",
     "text": [
      "Ingrese su límite diario de calorías:  200\n",
      "Ingrese la cantidad de calorías de una porción de chocolate:  20\n"
     ]
    },
    {
     "name": "stdout",
     "output_type": "stream",
     "text": [
      "Puede comer hasta 10 porciones de chocolate sin exceder su límite de calorías.\n"
     ]
    }
   ],
   "source": [
    "# 4) Calculadora de chocolate\n",
    "\n",
    "# Ingresar el límite diario de calorías\n",
    "limite_calorias = int(input(\"Ingrese su límite diario de calorías: \"))\n",
    "\n",
    "# Ingresar las calorías por porción de chocolate\n",
    "calorias_chocolate = int(input(\"Ingrese la cantidad de calorías de una porción de chocolate: \"))\n",
    "\n",
    "# Calcular la cantidad máxima de porciones que se pueden comer\n",
    "porciones_maximas = limite_calorias // calorias_chocolate\n",
    "\n",
    "# Mostrar resultado\n",
    "print(f\"Puede comer hasta {porciones_maximas} porciones de chocolate sin exceder su límite de calorías.\")\n"
   ]
  }
 ],
 "metadata": {
  "kernelspec": {
   "display_name": "Python [conda env:base] *",
   "language": "python",
   "name": "conda-base-py"
  },
  "language_info": {
   "codemirror_mode": {
    "name": "ipython",
    "version": 3
   },
   "file_extension": ".py",
   "mimetype": "text/x-python",
   "name": "python",
   "nbconvert_exporter": "python",
   "pygments_lexer": "ipython3",
   "version": "3.12.7"
  }
 },
 "nbformat": 4,
 "nbformat_minor": 5
}
