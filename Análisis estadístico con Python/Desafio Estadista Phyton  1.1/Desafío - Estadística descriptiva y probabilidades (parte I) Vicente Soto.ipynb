{
 "cells": [
  {
   "cell_type": "markdown",
   "id": "5efb348e-d56b-47bd-b841-df8d50575312",
   "metadata": {},
   "source": [
    "# Desafío 1: Estadística descriptiva y probabilidades (Parte I)\n",
    "## Vicente Soto Valladares — Módulo: Análisis Estadístico con Python\n"
   ]
  },
  {
   "cell_type": "markdown",
   "id": "c3441d3f-6765-433d-b74d-288a84f99786",
   "metadata": {},
   "source": [
    "## Carga y exploración inicial\n",
    "El dataset `ds_salaries.csv` contiene registros de salarios en distintas posiciones de ciencia de datos a nivel global. La columna `salary_in_usd` representa el salario anual convertido a dólares.\n"
   ]
  },
  {
   "cell_type": "code",
   "execution_count": 1,
   "id": "20c228f5-5b36-412f-9674-9516cab6c985",
   "metadata": {},
   "outputs": [
    {
     "data": {
      "text/html": [
       "<div>\n",
       "<style scoped>\n",
       "    .dataframe tbody tr th:only-of-type {\n",
       "        vertical-align: middle;\n",
       "    }\n",
       "\n",
       "    .dataframe tbody tr th {\n",
       "        vertical-align: top;\n",
       "    }\n",
       "\n",
       "    .dataframe thead th {\n",
       "        text-align: right;\n",
       "    }\n",
       "</style>\n",
       "<table border=\"1\" class=\"dataframe\">\n",
       "  <thead>\n",
       "    <tr style=\"text-align: right;\">\n",
       "      <th></th>\n",
       "      <th>work_year</th>\n",
       "      <th>experience_level</th>\n",
       "      <th>employment_type</th>\n",
       "      <th>job_title</th>\n",
       "      <th>salary</th>\n",
       "      <th>salary_currency</th>\n",
       "      <th>salary_in_usd</th>\n",
       "      <th>employee_residence</th>\n",
       "      <th>remote_ratio</th>\n",
       "      <th>company_location</th>\n",
       "      <th>company_size</th>\n",
       "    </tr>\n",
       "  </thead>\n",
       "  <tbody>\n",
       "    <tr>\n",
       "      <th>0</th>\n",
       "      <td>2023</td>\n",
       "      <td>SE</td>\n",
       "      <td>FT</td>\n",
       "      <td>Principal Data Scientist</td>\n",
       "      <td>80000</td>\n",
       "      <td>EUR</td>\n",
       "      <td>85847</td>\n",
       "      <td>ES</td>\n",
       "      <td>100</td>\n",
       "      <td>ES</td>\n",
       "      <td>L</td>\n",
       "    </tr>\n",
       "    <tr>\n",
       "      <th>1</th>\n",
       "      <td>2023</td>\n",
       "      <td>MI</td>\n",
       "      <td>CT</td>\n",
       "      <td>ML Engineer</td>\n",
       "      <td>30000</td>\n",
       "      <td>USD</td>\n",
       "      <td>30000</td>\n",
       "      <td>US</td>\n",
       "      <td>100</td>\n",
       "      <td>US</td>\n",
       "      <td>S</td>\n",
       "    </tr>\n",
       "    <tr>\n",
       "      <th>2</th>\n",
       "      <td>2023</td>\n",
       "      <td>MI</td>\n",
       "      <td>CT</td>\n",
       "      <td>ML Engineer</td>\n",
       "      <td>25500</td>\n",
       "      <td>USD</td>\n",
       "      <td>25500</td>\n",
       "      <td>US</td>\n",
       "      <td>100</td>\n",
       "      <td>US</td>\n",
       "      <td>S</td>\n",
       "    </tr>\n",
       "    <tr>\n",
       "      <th>3</th>\n",
       "      <td>2023</td>\n",
       "      <td>SE</td>\n",
       "      <td>FT</td>\n",
       "      <td>Data Scientist</td>\n",
       "      <td>175000</td>\n",
       "      <td>USD</td>\n",
       "      <td>175000</td>\n",
       "      <td>CA</td>\n",
       "      <td>100</td>\n",
       "      <td>CA</td>\n",
       "      <td>M</td>\n",
       "    </tr>\n",
       "    <tr>\n",
       "      <th>4</th>\n",
       "      <td>2023</td>\n",
       "      <td>SE</td>\n",
       "      <td>FT</td>\n",
       "      <td>Data Scientist</td>\n",
       "      <td>120000</td>\n",
       "      <td>USD</td>\n",
       "      <td>120000</td>\n",
       "      <td>CA</td>\n",
       "      <td>100</td>\n",
       "      <td>CA</td>\n",
       "      <td>M</td>\n",
       "    </tr>\n",
       "  </tbody>\n",
       "</table>\n",
       "</div>"
      ],
      "text/plain": [
       "   work_year experience_level employment_type                 job_title  \\\n",
       "0       2023               SE              FT  Principal Data Scientist   \n",
       "1       2023               MI              CT               ML Engineer   \n",
       "2       2023               MI              CT               ML Engineer   \n",
       "3       2023               SE              FT            Data Scientist   \n",
       "4       2023               SE              FT            Data Scientist   \n",
       "\n",
       "   salary salary_currency  salary_in_usd employee_residence  remote_ratio  \\\n",
       "0   80000             EUR          85847                 ES           100   \n",
       "1   30000             USD          30000                 US           100   \n",
       "2   25500             USD          25500                 US           100   \n",
       "3  175000             USD         175000                 CA           100   \n",
       "4  120000             USD         120000                 CA           100   \n",
       "\n",
       "  company_location company_size  \n",
       "0               ES            L  \n",
       "1               US            S  \n",
       "2               US            S  \n",
       "3               CA            M  \n",
       "4               CA            M  "
      ]
     },
     "execution_count": 1,
     "metadata": {},
     "output_type": "execute_result"
    }
   ],
   "source": [
    "import pandas as pd\n",
    "import numpy as np\n",
    "import matplotlib.pyplot as plt\n",
    "import seaborn as sns\n",
    "\n",
    "df = pd.read_csv(\"ds_salaries.csv\")\n",
    "df.head()\n"
   ]
  },
  {
   "cell_type": "markdown",
   "id": "109a29ad-f9e3-4e74-b887-d171b1496a5b",
   "metadata": {},
   "source": [
    "## Estadísticas generales de salarios\n",
    "Se analizó la distribución de salarios utilizando medidas como el promedio, la desviación estándar, el rango y los quintiles. Esto permite comprender la dispersión y tendencia central del salario en el dataset.\n"
   ]
  },
  {
   "cell_type": "code",
   "execution_count": 2,
   "id": "65dde5b7-afa3-46f8-a0a1-0318281e7c1d",
   "metadata": {},
   "outputs": [
    {
     "name": "stdout",
     "output_type": "stream",
     "text": [
      "Promedio: 137570.38988015978\n",
      "Desviación estándar: 63055.6252782241\n",
      "Quintiles:\n",
      "0.2     83972.8\n",
      "0.4    120000.0\n",
      "0.6    149850.0\n",
      "0.8    185900.0\n",
      "Name: salary_in_usd, dtype: float64\n",
      "Rango: 444868\n"
     ]
    }
   ],
   "source": [
    "salarios = df[\"salary_in_usd\"]\n",
    "\n",
    "promedio = salarios.mean()\n",
    "desviacion = salarios.std()\n",
    "quintiles = salarios.quantile([0.2, 0.4, 0.6, 0.8])\n",
    "rango = salarios.max() - salarios.min()\n",
    "\n",
    "print(\"Promedio:\", promedio)\n",
    "print(\"Desviación estándar:\", desviacion)\n",
    "print(\"Quintiles:\")\n",
    "print(quintiles)\n",
    "print(\"Rango:\", rango)"
   ]
  },
  {
   "cell_type": "markdown",
   "id": "c2e302d6-3666-4cac-98a1-42066368b66b",
   "metadata": {},
   "source": [
    "## Agrupación por categoría\n",
    "Se agruparon los salarios por:\n",
    "- Nivel de experiencia (`experience_level`)\n",
    "- Tipo de empleo (`employment_type`)\n",
    "- Tamaño de empresa (`company_size`)\n",
    "\n",
    "Esto permite observar cómo varía el salario promedio y su dispersión según distintas condiciones laborales.\n"
   ]
  },
  {
   "cell_type": "code",
   "execution_count": 3,
   "id": "5fd8b2b9-37e2-4273-960b-732740271c33",
   "metadata": {},
   "outputs": [
    {
     "name": "stdout",
     "output_type": "stream",
     "text": [
      "\n",
      "Estadísticas por nivel de experiencia:\n",
      "                   count           mean           std      min       25%  \\\n",
      "experience_level                                                           \n",
      "EN                 320.0   78546.284375  52225.424309   5409.0   40000.0   \n",
      "EX                 114.0  194930.929825  70661.929661  15000.0  145000.0   \n",
      "MI                 805.0  104525.939130  54387.685128   5132.0   66837.0   \n",
      "SE                2516.0  153051.071542  56896.263954   8000.0  115000.0   \n",
      "\n",
      "                       50%        75%       max  \n",
      "experience_level                                 \n",
      "EN                 70000.0  110009.25  300000.0  \n",
      "EX                196000.0  239000.00  416000.0  \n",
      "MI                100000.0  135000.00  450000.0  \n",
      "SE                146000.0  185900.00  423834.0  \n",
      "\n",
      "Estadísticas por tipo de empleo:\n",
      "                  count           mean            std      min       25%  \\\n",
      "employment_type                                                            \n",
      "CT                 10.0  113446.900000  130176.746842   7500.0  30117.25   \n",
      "FL                 10.0   51807.800000   29458.879336  12000.0  34281.00   \n",
      "FT               3718.0  138314.199570   62452.177613   5132.0  95599.00   \n",
      "PT                 17.0   39533.705882   38312.145181   5409.0  12000.00   \n",
      "\n",
      "                      50%       75%       max  \n",
      "employment_type                                \n",
      "CT                75000.0  103750.0  416000.0  \n",
      "FL                50000.0   57500.0  100000.0  \n",
      "FT               135000.0  175075.0  450000.0  \n",
      "PT                21669.0   52533.0  125404.0  \n",
      "\n",
      "Estadísticas por tamaño de empresa:\n",
      "               count           mean           std     min        25%  \\\n",
      "company_size                                                           \n",
      "L              454.0  118300.982379  75832.391505  5409.0   60830.75   \n",
      "M             3153.0  143130.548367  58992.813382  5132.0  102100.00   \n",
      "S              148.0   78226.682432  61955.141792  5679.0   35668.00   \n",
      "\n",
      "                   50%        75%       max  \n",
      "company_size                                 \n",
      "L             108500.0  159175.00  423834.0  \n",
      "M             140000.0  180000.00  450000.0  \n",
      "S              62146.0  107481.75  416000.0  \n"
     ]
    }
   ],
   "source": [
    "grupo_experiencia = df.groupby(\"experience_level\")[\"salary_in_usd\"].describe()\n",
    "grupo_empleo = df.groupby(\"employment_type\")[\"salary_in_usd\"].describe()\n",
    "grupo_empresa = df.groupby(\"company_size\")[\"salary_in_usd\"].describe()\n",
    "\n",
    "print(\"\\nEstadísticas por nivel de experiencia:\")\n",
    "print(grupo_experiencia)\n",
    "\n",
    "print(\"\\nEstadísticas por tipo de empleo:\")\n",
    "print(grupo_empleo)\n",
    "\n",
    "print(\"\\nEstadísticas por tamaño de empresa:\")\n",
    "print(grupo_empresa)\n"
   ]
  },
  {
   "cell_type": "markdown",
   "id": "3eda2724-b09e-485a-8c84-5fad6a64e77e",
   "metadata": {},
   "source": [
    "## Representatividad del promedio\n",
    "En general, el promedio es una buena medida de tendencia central cuando la desviación estándar es baja.\n",
    "\n",
    "- Para empleo **Full-Time (FT)** y empresas grandes (**L**), los salarios son más homogéneos, por lo que el promedio es representativo.\n",
    "- Para trabajo **freelance (FL)**, la dispersión salarial es muy alta, lo que sugiere que el promedio no representa bien la distribución.\n"
   ]
  },
  {
   "cell_type": "markdown",
   "id": "80e9d895-4e78-4d40-81cc-23533641e841",
   "metadata": {},
   "source": [
    "## Top 10 cargos mejor pagados en empresas de EE.UU.\n",
    "Se filtraron las empresas ubicadas en EE.UU. (`company_location = 'US'`) y se calcularon los salarios promedio por cargo (`job_title`). A partir de esto se construyó un ranking con los 10 cargos con mayores salarios medios.\n"
   ]
  },
  {
   "cell_type": "code",
   "execution_count": 4,
   "id": "d9c17e9d-a60e-47d5-8cb3-a54ef30fcbec",
   "metadata": {},
   "outputs": [
    {
     "name": "stdout",
     "output_type": "stream",
     "text": [
      "Top 10 cargos mejor pagados en empresas de EEUU:\n",
      "job_title\n",
      "Data Analytics Lead                   405000.000000\n",
      "Data Science Tech Lead                375000.000000\n",
      "Director of Data Science              294375.000000\n",
      "Principal Data Scientist              255500.000000\n",
      "Cloud Data Architect                  250000.000000\n",
      "Applied Data Scientist                238000.000000\n",
      "Head of Data                          233183.333333\n",
      "Machine Learning Software Engineer    217400.000000\n",
      "Data Lead                             212500.000000\n",
      "Head of Data Science                  202355.000000\n",
      "Name: salary_in_usd, dtype: float64\n"
     ]
    }
   ],
   "source": [
    "us_jobs = df[df[\"company_location\"] == \"US\"]\n",
    "mejores_cargos = (\n",
    "    us_jobs.groupby(\"job_title\")[\"salary_in_usd\"]\n",
    "    .mean()\n",
    "    .sort_values(ascending=False)\n",
    "    .head(10)\n",
    ")\n",
    "\n",
    "print(\"Top 10 cargos mejor pagados en empresas de EEUU:\")\n",
    "print(mejores_cargos)\n"
   ]
  }
 ],
 "metadata": {
  "kernelspec": {
   "display_name": "Python 3 (ipykernel)",
   "language": "python",
   "name": "python3"
  },
  "language_info": {
   "codemirror_mode": {
    "name": "ipython",
    "version": 3
   },
   "file_extension": ".py",
   "mimetype": "text/x-python",
   "name": "python",
   "nbconvert_exporter": "python",
   "pygments_lexer": "ipython3",
   "version": "3.13.2"
  }
 },
 "nbformat": 4,
 "nbformat_minor": 5
}
